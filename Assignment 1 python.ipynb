{
 "cells": [
  {
   "cell_type": "markdown",
   "id": "8dc007f1",
   "metadata": {},
   "source": [
    "# Assignment 1 Python"
   ]
  },
  {
   "cell_type": "markdown",
   "id": "973b29bf",
   "metadata": {},
   "source": [
    "Finding the Third Side of Right Angle Triangle"
   ]
  },
  {
   "cell_type": "code",
   "execution_count": 28,
   "id": "8b2e5f1c",
   "metadata": {},
   "outputs": [],
   "source": [
    "import numpy as np"
   ]
  },
  {
   "cell_type": "code",
   "execution_count": 29,
   "id": "cc7d2ebc",
   "metadata": {},
   "outputs": [
    {
     "name": "stdout",
     "output_type": "stream",
     "text": [
      "Enter The Base in mm15\n"
     ]
    }
   ],
   "source": [
    "Base = int(input('Enter The Base in mm'))"
   ]
  },
  {
   "cell_type": "code",
   "execution_count": 30,
   "id": "85af2d1b",
   "metadata": {},
   "outputs": [
    {
     "name": "stdout",
     "output_type": "stream",
     "text": [
      "Enter The Height in mm24\n"
     ]
    }
   ],
   "source": [
    "Height = int(input('Enter The Height in mm'))"
   ]
  },
  {
   "cell_type": "code",
   "execution_count": 31,
   "id": "ead71b15",
   "metadata": {},
   "outputs": [
    {
     "name": "stdout",
     "output_type": "stream",
     "text": [
      "Third Side of Triangle is : 28.30194339616981 mm\n"
     ]
    }
   ],
   "source": [
    "Thirdside = np.sqrt(Base**2 + Height**2)\n",
    "print('Third Side of Triangle is :', Thirdside, 'mm')"
   ]
  },
  {
   "cell_type": "markdown",
   "id": "960df38d",
   "metadata": {},
   "source": [
    "Finding factorial of a number"
   ]
  },
  {
   "cell_type": "code",
   "execution_count": 32,
   "id": "fd5578ee",
   "metadata": {},
   "outputs": [
    {
     "name": "stdout",
     "output_type": "stream",
     "text": [
      "Factorial Of 8 is: 40320\n"
     ]
    }
   ],
   "source": [
    "def factorial(n):\n",
    "    return 1 if (n==0) else n*factorial(n-1)\n",
    "num = 8\n",
    "print('Factorial Of',num, 'is:',factorial(num))\n",
    " "
   ]
  },
  {
   "cell_type": "markdown",
   "id": "2a27c430",
   "metadata": {},
   "source": [
    "checking the prime number"
   ]
  },
  {
   "cell_type": "code",
   "execution_count": 33,
   "id": "c9de8a4c",
   "metadata": {},
   "outputs": [
    {
     "name": "stdout",
     "output_type": "stream",
     "text": [
      "Enter a number41\n"
     ]
    }
   ],
   "source": [
    "num = int(input(\"Enter a number\"))"
   ]
  },
  {
   "cell_type": "code",
   "execution_count": 34,
   "id": "98f8e66a",
   "metadata": {},
   "outputs": [
    {
     "name": "stdout",
     "output_type": "stream",
     "text": [
      "41 is a prime number\n"
     ]
    }
   ],
   "source": [
    "if num > 1:\n",
    "    for i in range (2, int(num/2)+1):\n",
    "        if (num % i)==0:\n",
    "            print (num,'is a not prime number')\n",
    "            break\n",
    "        else:\n",
    "            print(num, 'is a prime number')\n",
    "            break"
   ]
  },
  {
   "cell_type": "code",
   "execution_count": null,
   "id": "b71b1849",
   "metadata": {},
   "outputs": [],
   "source": []
  },
  {
   "cell_type": "code",
   "execution_count": null,
   "id": "a7623f3f",
   "metadata": {},
   "outputs": [],
   "source": []
  }
 ],
 "metadata": {
  "kernelspec": {
   "display_name": "Python 3",
   "language": "python",
   "name": "python3"
  },
  "language_info": {
   "codemirror_mode": {
    "name": "ipython",
    "version": 3
   },
   "file_extension": ".py",
   "mimetype": "text/x-python",
   "name": "python",
   "nbconvert_exporter": "python",
   "pygments_lexer": "ipython3",
   "version": "3.8.8"
  }
 },
 "nbformat": 4,
 "nbformat_minor": 5
}
